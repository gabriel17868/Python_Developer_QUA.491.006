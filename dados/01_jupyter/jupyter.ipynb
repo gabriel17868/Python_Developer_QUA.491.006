{
 "cells": [
  {
   "cell_type": "markdown",
   "id": "4c6e2206",
   "metadata": {},
   "source": [
    "# Título do meu texto"
   ]
  },
  {
   "cell_type": "markdown",
   "id": "188ad498",
   "metadata": {},
   "source": [
    "---"
   ]
  },
  {
   "cell_type": "markdown",
   "id": "30a7571a",
   "metadata": {},
   "source": [
    "## Subtítulo"
   ]
  },
  {
   "cell_type": "markdown",
   "id": "b955928a",
   "metadata": {},
   "source": [
    "### Título"
   ]
  },
  {
   "cell_type": "markdown",
   "id": "7982c2d7",
   "metadata": {},
   "source": [
    "Aqui eu posso digitar meu texto normalmente."
   ]
  },
  {
   "cell_type": "markdown",
   "id": "5ee2888f",
   "metadata": {},
   "source": [
    "Novo markdown adicionado embaixo do texto."
   ]
  },
  {
   "cell_type": "markdown",
   "id": "1fcc9615",
   "metadata": {},
   "source": [
    "Código-fonte completo em Java:\n",
    "\n",
    "~~~Java \n",
    "public class App {\n",
    "    public static void main(String[] args) throws Exception {\n",
    "        System.out.println(\"Olá\", mundo!);\n",
    "    }\n",
    "}\n",
    "~~~~"
   ]
  },
  {
   "cell_type": "code",
   "execution_count": 1,
   "id": "23b90ac2",
   "metadata": {},
   "outputs": [
    {
     "name": "stdout",
     "output_type": "stream",
     "text": [
      "Hello World\n"
     ]
    }
   ],
   "source": [
    "print(\"Hello World\")"
   ]
  }
 ],
 "metadata": {
  "kernelspec": {
   "display_name": ".venv",
   "language": "python",
   "name": "python3"
  },
  "language_info": {
   "codemirror_mode": {
    "name": "ipython",
    "version": 3
   },
   "file_extension": ".py",
   "mimetype": "text/x-python",
   "name": "python",
   "nbconvert_exporter": "python",
   "pygments_lexer": "ipython3",
   "version": "3.13.6"
  }
 },
 "nbformat": 4,
 "nbformat_minor": 5
}
